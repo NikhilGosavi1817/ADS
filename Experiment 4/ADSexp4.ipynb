{
  "nbformat": 4,
  "nbformat_minor": 0,
  "metadata": {
    "colab": {
      "provenance": []
    },
    "kernelspec": {
      "name": "python3",
      "display_name": "Python 3"
    },
    "language_info": {
      "name": "python"
    }
  },
  "cells": [
    {
      "cell_type": "code",
      "execution_count": null,
      "metadata": {
        "colab": {
          "base_uri": "https://localhost:8080/"
        },
        "id": "aBXlH5cSa14_",
        "outputId": "b138e18d-ef62-46e5-d671-b3db7c34f863"
      },
      "outputs": [
        {
          "output_type": "stream",
          "name": "stdout",
          "text": [
            "Confusion Matrix :\n",
            "[[3 3]\n",
            " [1 3]]\n",
            "Accuracy Score is 0.6\n",
            "Classification Report : \n",
            "              precision    recall  f1-score   support\n",
            "\n",
            "           0       0.75      0.50      0.60         6\n",
            "           1       0.50      0.75      0.60         4\n",
            "\n",
            "    accuracy                           0.60        10\n",
            "   macro avg       0.62      0.62      0.60        10\n",
            "weighted avg       0.65      0.60      0.60        10\n",
            "\n",
            "AUC-ROC: 0.625\n",
            "LOGLOSS Value is 14.41746135564686\n"
          ]
        }
      ],
      "source": [
        "from sklearn.metrics import confusion_matrix\n",
        "from sklearn.metrics import accuracy_score\n",
        "from sklearn.metrics import classification_report\n",
        "from sklearn.metrics import roc_auc_score\n",
        "from sklearn.metrics import log_loss\n",
        "X_actual = [1, 1, 0, 1, 0, 0, 1, 0, 0, 0]\n",
        "Y_predic = [1, 0, 1, 1, 1, 0, 1, 1, 0, 0]\n",
        "results = confusion_matrix(X_actual, Y_predic)\n",
        "print ('Confusion Matrix :')\n",
        "print(results)\n",
        "print ('Accuracy Score is',accuracy_score(X_actual, Y_predic))\n",
        "print ('Classification Report : ')\n",
        "print (classification_report(X_actual, Y_predic))\n",
        "print('AUC-ROC:',roc_auc_score(X_actual, Y_predic))\n",
        "print('LOGLOSS Value is',log_loss(X_actual, Y_predic))"
      ]
    },
    {
      "cell_type": "code",
      "source": [
        "from sklearn.metrics import r2_score\n",
        "from sklearn.metrics import mean_absolute_error\n",
        "from sklearn.metrics import mean_squared_error\n",
        "X_actual = [5, -1, 2, 10]\n",
        "Y_predic = [3.5, -0.9, 2, 9.9]\n",
        "print ('R Squared =',r2_score(X_actual, Y_predic))\n",
        "print ('MAE =',mean_absolute_error(X_actual, Y_predic))\n",
        "print ('MSE =',mean_squared_error(X_actual, Y_predic))"
      ],
      "metadata": {
        "colab": {
          "base_uri": "https://localhost:8080/"
        },
        "id": "pAsq7uY7bHrU",
        "outputId": "36da4ec5-6593-4bbf-ca99-63f8dca7630d"
      },
      "execution_count": null,
      "outputs": [
        {
          "output_type": "stream",
          "name": "stdout",
          "text": [
            "R Squared = 0.9656060606060606\n",
            "MAE = 0.42499999999999993\n",
            "MSE = 0.5674999999999999\n"
          ]
        }
      ]
    }
  ]
}